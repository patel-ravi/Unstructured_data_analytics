{
 "cells": [
  {
   "cell_type": "markdown",
   "metadata": {},
   "source": [
    "# Unstructured Data Analytics HW1\n",
    "\n",
    "Name: Ravikumar Patel\n",
    "\n",
    "Andrew ID: rjpatel\n",
    "\n",
    "Collaborators (if none, say \"none\"; do *not* leave this blank): Kumar Ashwarya, Manmitha Patya Gulipilli \n",
    "\n",
    "Reminder: you should not be sharing code."
   ]
  },
  {
   "cell_type": "markdown",
   "metadata": {},
   "source": [
    "**Warning: make sure your compute environment is set up first.** This homework assignment assumes that you have already installed Anaconda Python 3 and spaCy. Instructions for installing these are part of the tutorial [here](https://www.andrew.cmu.edu/user/georgech/95-865/Anaconda,%20Jupyter,%20and%20spaCy%20setup%20tutorial.pdf)."
   ]
  },
  {
   "cell_type": "markdown",
   "metadata": {},
   "source": [
    "### Instructions\n",
    "1. Fill in your name, Andrew ID, and collaborators above.\n",
    "2. Fill in the code/text blocks to answer each question.\n",
    "3. Do *not* change any of the existing code provided.\n",
    "4. Run the entire notebook *before* submitting it on Canvas to make sure that the code actually runs without errors. (**Important**: Any code cells that you have entered code for but did not actually execute will be disregarded, so please be sure to actually run your code first and make sure it runs without errors! We may re-run a subset of your code for grading purposes.)\n",
    "5. Be careful about where you save data for use with this Jupyter notebook (more details on this later)."
   ]
  },
  {
   "cell_type": "markdown",
   "metadata": {},
   "source": [
    "### [Problem 1] Basic Text Analysis [45 pts]\n",
    "\n",
    "This problem involves a mix of Python review (loops, conditionals, counters/dictionaries, sorting) and learning to work with a sizable collection of text data.\n",
    "\n",
    "You will be looking at a phenomenon of \"natural languages\" (i.e., human languages, such as English) called *Zipf's law*, which relates how frequently a word occurs in a language to its \"rank\" (the word with rank 1 is the most frequently occurring word, the word with rank 2 is the second most frequently occurring word, etc). Roughly speaking, the word with rank 1 appears twice as likely as the word with rank 2, and the three times as likely as the word with rank 3, and so forth. (Some details on Zipf's law can be found on [Wikipedia](https://en.wikipedia.org/wiki/Zipf%27s_law).) In this problem, you are going to check whether Zipf's law holds for a real dataset of text documents.\n",
    "\n",
    "The dataset we look at is a collection of the 100 most popular books downloaded from the [Gutenburg Project](https://www.gutenberg.org/browse/scores/top). These 100 books form the corpus that we consider for this problem. Each file contains the text of a book. We will read in all 100 books.\n",
    "\n",
    "Note: Please *do not* change the folder name or the path, and make sure you use a relative path (e.g. './HW1_Dataset/*filename*) when reading the files. When grading your homework, we will put your Jupyter notebook file and the dataset in the same folder, and run your code. **You will not receive points for this problem if your code fails to load the data.**\n",
    "\n",
    "Hint: To list all files that match a certain pattern, you can use the `glob` package. Here's an example usage:\n",
    "\n",
    "```python\n",
    "import glob\n",
    "print(glob.glob('./HW1_Dataset/*.txt'))\n",
    "```\n",
    "\n",
    "**(a) Warm-up/basic Python review [15 pts across subparts].** This part serves as a warm-up, getting you familiar with the kind of code we will be writing in this class. Note that throughout part (a), your code should **not** be using spaCy.\n",
    "\n",
    "**Subpart i [5 pts].** Write a loop that iterates through all 100 books; for each book, print out its corresponding file name and also how long the book is in terms of string length (meaning that if we load in the book as a string, we compute the length of the string using the built-in Python function `len`; this is just counting the number of characters).\n",
    "\n",
    "**Please do not actually print out the contents of each book since many of the books are extremely long, and by printing out all the books' contents, you'll end up creating a Jupyter notebook that has a massive file size.**\n",
    "\n",
    "Hint: When debugging your code, you may want to first make sure your code runs on a few of the books rather than all 100 (for example, you can start by only having 3 of the text files in `HW1_Dataset`). Once you're confident that your solution is correct on a few text files, then run on all of them! This is a standard approach to debugging code that is meant to handle large datasets.\n",
    "\n",
    "Your output should look like (although there should be 100 books rather than 3 as shown below; also, the ordering of the books might be different on your machine):\n",
    "\n",
    "```\n",
    "./HW1_Dataset/War and Peace by graf Leo Tolstoy (251).txt 3227580\n",
    "./HW1_Dataset/Democracy in America — Volume 1 by Alexis de Tocqueville (147).txt 1148435\n",
    "./HW1_Dataset/Frankenstein; Or, The Modern Prometheus by Mary Wollstonecraft Shelley (501).txt 441034\n",
    "```"
   ]
  },
  {
   "cell_type": "code",
   "execution_count": 1,
   "metadata": {},
   "outputs": [],
   "source": [
    "import matplotlib.pyplot as plt\n",
    "import os\n",
    "os.environ['KMP_DUPLICATE_LIB_OK']='True'\n",
    "\n",
    "plt.style.use('seaborn')  # prettier plots (for example, use 'ggplot' instead of 'seaborn' for plots like in R)\n"
   ]
  },
  {
   "cell_type": "code",
   "execution_count": 2,
   "metadata": {},
   "outputs": [
    {
     "name": "stdout",
     "output_type": "stream",
     "text": [
      "./HW1_Dataset\\A Christmas Carol in Prose; Being a Ghost Story of Christmas by Charles Dickens (265).txt 177758\n",
      "./HW1_Dataset\\A History of Spanish Literature by James Fitzmaurice-Kelly (109).txt 765918\n",
      "./HW1_Dataset\\A Modest Proposal by Jonathan Swift (233).txt 38966\n",
      "./HW1_Dataset\\A Study in Scarlet by Arthur Conan Doyle (163).txt 262340\n",
      "./HW1_Dataset\\A Tale of Two Cities by Charles Dickens (425).txt 776702\n",
      "./HW1_Dataset\\Adventures of Huckleberry Finn by Mark Twain (401).txt 593962\n",
      "./HW1_Dataset\\Alice in Wonderland by Lewis Carroll and Alice Gerstenberg (126).txt 104079\n",
      "./HW1_Dataset\\Alice's Adventures in Wonderland by Lewis Carroll (564).txt 163817\n",
      "./HW1_Dataset\\Anne of Green Gables by L. M.  Montgomery (114).txt 580635\n",
      "./HW1_Dataset\\Autobiography of Benjamin Franklin by Benjamin Franklin (247).txt 458600\n",
      "./HW1_Dataset\\Beowulf An Anglo-Saxon Epic Poem (403).txt 292953\n",
      "./HW1_Dataset\\Beyond Good and Evil by Friedrich Wilhelm Nietzsche (120).txt 402273\n",
      "./HW1_Dataset\\Candide by Voltaire (180).txt 224924\n",
      "./HW1_Dataset\\Carmilla by Joseph Sheridan Le Fanu (135).txt 176408\n",
      "./HW1_Dataset\\Common Sense by Thomas Paine (297).txt 145353\n",
      "./HW1_Dataset\\Democracy in America — Volume 1 by Alexis de Tocqueville (147).txt 1148435\n",
      "./HW1_Dataset\\Dracula by Bram Stoker (461).txt 867141\n",
      "./HW1_Dataset\\Dubliners by James Joyce (219).txt 389199\n",
      "./HW1_Dataset\\Emma by Jane Austen (166).txt 902390\n",
      "./HW1_Dataset\\Essays by Ralph Waldo Emerson by Ralph Waldo Emerson (239).txt 557197\n",
      "./HW1_Dataset\\Essays of Michel de Montaigne — Complete by Michel de Montaigne (205).txt 3033575\n",
      "./HW1_Dataset\\Et dukkehjem. English by Henrik Ibsen (557).txt 161241\n",
      "./HW1_Dataset\\Frankenstein; Or, The Modern Prometheus by Mary Wollstonecraft Shelley (501).txt 441034\n",
      "./HW1_Dataset\\Great Expectations by Charles Dickens (293).txt 1013450\n",
      "./HW1_Dataset\\Grimms' Fairy Tales by Jacob Grimm and Wilhelm Grimm (429).txt 540241\n",
      "./HW1_Dataset\\Gulliver's Travels into Several Remote Nations of the World by Jonathan Swift (136).txt 600105\n",
      "./HW1_Dataset\\Heart of Darkness by Joseph Conrad (213).txt 229835\n",
      "./HW1_Dataset\\Hedda Gabler by Henrik Ibsen (123).txt 193875\n",
      "./HW1_Dataset\\Il Principe. English by Niccolò Machiavelli (428) (Unicode Encoding Conflict).txt 300788\n",
      "./HW1_Dataset\\Jane Eyre_ An Autobiography by Charlotte Brontë (290) (Unicode Encoding Conflict).txt 1049267\n",
      "./HW1_Dataset\\Leaves of Grass by Walt Whitman (164).txt 757361\n",
      "./HW1_Dataset\\Les Misérables by Victor Hugo (165) (Unicode Encoding Conflict).txt 3254333\n",
      "./HW1_Dataset\\Leviathan by Thomas Hobbes (417).txt 1231784\n",
      "./HW1_Dataset\\Liberalism by L. T.  Hobhouse (119).txt 305345\n",
      "./HW1_Dataset\\Metamorphosis by Franz Kafka (483).txt 139056\n",
      "./HW1_Dataset\\Moby Dick; Or, The Whale by Herman Melville (413).txt 1238569\n",
      "./HW1_Dataset\\My Fifteen Lost Years by Florence Elizabeth Maybrick (499).txt 383694\n",
      "./HW1_Dataset\\My Secret Life, Volumes I. to III. by Anonymous (157).txt 1378627\n",
      "./HW1_Dataset\\Narrative of the Captivity and Restoration of Mrs. Mary Rowlandson by Mary White Rowlandson (222).txt 123784\n",
      "./HW1_Dataset\\Narrative of the Life of Frederick Douglass, an American Slave by Frederick Douglass (243).txt 244263\n",
      "./HW1_Dataset\\On Liberty by John Stuart Mill (116).txt 325922\n",
      "./HW1_Dataset\\Outpost in the Wilderness_ Fort Wayne, 1706-1828 by Charles Poinsatte (161).txt 363234\n",
      "./HW1_Dataset\\Persuasion by Jane Austen (2234).txt 486251\n",
      "./HW1_Dataset\\Peter Pan by J. M.  Barrie (274).txt 278194\n",
      "./HW1_Dataset\\Prestuplenie i nakazanie. English by Fyodor Dostoyevsky (160).txt 1154508\n",
      "./HW1_Dataset\\Pride and Prejudice by Jane Austen (1003).txt 704192\n",
      "./HW1_Dataset\\Robert Greene by Robert Greene (126).txt 760655\n",
      "./HW1_Dataset\\Semmering 1912 by Peter Altenberg (221).txt 264946\n",
      "./HW1_Dataset\\Sense and Sensibility by Jane Austen (177).txt 693095\n",
      "./HW1_Dataset\\Siddhartha by Hermann Hesse (216).txt 236855\n",
      "./HW1_Dataset\\Songs of Innocence, and Songs of Experience by William Blake (166).txt 51724\n",
      "./HW1_Dataset\\The Adventures of Sherlock Holmes by Arthur Conan Doyle (447).txt 581864\n",
      "./HW1_Dataset\\The Adventures of Tom Sawyer by Mark Twain (371).txt 412712\n",
      "./HW1_Dataset\\The Awakening, and Selected Short Stories by Kate Chopin (192).txt 378936\n",
      "./HW1_Dataset\\The Boy Fortune Hunters in China by L. Frank  Baum (215).txt 324452\n",
      "./HW1_Dataset\\The Boy Fortune Hunters in the South Seas by L. Frank  Baum (150).txt 266166\n",
      "./HW1_Dataset\\The Complete Works of William Shakespeare by William Shakespeare (132).txt 5465100\n",
      "./HW1_Dataset\\The Confessions of St. Augustine by Bishop of Hippo Saint Augustine (157).txt 622405\n",
      "./HW1_Dataset\\The Count of Monte Cristo, Illustrated by Alexandre Dumas (160).txt 2643849\n",
      "./HW1_Dataset\\The Divine Comedy by Dante, Illustrated by Dante Alighieri (119).txt 2161\n",
      "./HW1_Dataset\\The Faery Queen and Her Knights by Alfred John Church (177).txt 447320\n",
      "./HW1_Dataset\\The Federalist Papers by Alexander Hamilton and John Jay and James Madison (116).txt 1167141\n",
      "./HW1_Dataset\\The Guardsman by Homer Greene (175).txt 412900\n",
      "./HW1_Dataset\\The History of the Peloponnesian War by Thucydides (122).txt 1200021\n",
      "./HW1_Dataset\\The Hound of the Baskervilles by Arthur Conan Doyle (223).txt 339188\n",
      "./HW1_Dataset\\The Iliad by Homer (256).txt 1175588\n",
      "./HW1_Dataset\\The Importance of Being Earnest_ A Trivial Comedy for Serious People by Oscar Wilde (454).txt 138887\n",
      "./HW1_Dataset\\The Innocents Abroad by Mark Twain (108).txt 1126278\n",
      "./HW1_Dataset\\The Interesting Narrative of the Life of Olaudah Equiano, Or Gustavus Vassa, The African by Equiano (114).txt 471165\n",
      "./HW1_Dataset\\The Kama Sutra of Vatsyayana by Vatsyayana (172).txt 351664\n",
      "./HW1_Dataset\\The King James Version of the Bible (132).txt 4351846\n",
      "./HW1_Dataset\\The Law of Storms by John Wilson Ross (110).txt 65264\n",
      "./HW1_Dataset\\The Legend of Sleepy Hollow by Washington Irving (399).txt 89237\n",
      "./HW1_Dataset\\The Life and Adventures of Robinson Crusoe by Daniel Defoe (126).txt 642909\n",
      "./HW1_Dataset\\The Mysterious Affair at Styles by Agatha Christie (115).txt 340770\n",
      "./HW1_Dataset\\The Odyssey by Homer (124).txt 697404\n",
      "./HW1_Dataset\\The Peddler Spy by W. J. Hamilton (356).txt 197390\n",
      "./HW1_Dataset\\The Philosophy of Spiritual Activity by Rudolf Steiner (144).txt 545031\n",
      "./HW1_Dataset\\The Picture of Dorian Gray by Oscar Wilde (282).txt 453169\n",
      "./HW1_Dataset\\The Republic by Plato (246).txt 1214387\n",
      "./HW1_Dataset\\The Romance of Lust_ A Classic Victorian erotic novel by Anonymous (294).txt 1051148\n",
      "./HW1_Dataset\\The Scarlet Letter by Nathaniel Hawthorne (211).txt 506975\n",
      "./HW1_Dataset\\The Souls of Black Folk by W. E. B.  Du Bois (172).txt 421336\n",
      "./HW1_Dataset\\The Strange Case of Dr. Jekyll and Mr. Hyde by Robert Louis Stevenson (158).txt 158048\n",
      "./HW1_Dataset\\The Strange Case of Dr. Jekyll and Mr. Hyde by Robert Louis Stevenson (170).txt 159542\n",
      "./HW1_Dataset\\The Time Machine by H. G.  Wells (137).txt 198281\n",
      "./HW1_Dataset\\The Tragedy of Romeo and Juliet by William Shakespeare (131).txt 174128\n",
      "./HW1_Dataset\\The Tragical History of Doctor Faustus by Christopher Marlowe (144).txt 143736\n",
      "./HW1_Dataset\\The Turn of the Screw by Henry James (185).txt 248089\n",
      "./HW1_Dataset\\The Wendigo by Algernon Blackwood (174).txt 127464\n",
      "./HW1_Dataset\\The Wonderful Wizard of Oz by L. Frank  Baum (150).txt 227654\n",
      "./HW1_Dataset\\The Works of Edgar Allan Poe — Volume 2 by Edgar Allan Poe (137).txt 569966\n",
      "./HW1_Dataset\\The Yellow Wallpaper by Charlotte Perkins Gilman (462).txt 50841\n",
      "./HW1_Dataset\\Through the Looking-Glass by Lewis Carroll (134).txt 181667\n",
      "./HW1_Dataset\\Treasure Island by Robert Louis Stevenson (236).txt 383675\n",
      "./HW1_Dataset\\Ulysses by James Joyce (282).txt 1534140\n",
      "./HW1_Dataset\\Uncle Tom's Cabin by Harriet Beecher Stowe (108).txt 1025501\n",
      "./HW1_Dataset\\Walden, and On The Duty Of Civil Disobedience by Henry David Thoreau (180).txt 656207\n",
      "./HW1_Dataset\\War and Peace by graf Leo Tolstoy (251).txt 3227580\n",
      "./HW1_Dataset\\Wuthering Heights by Emily Brontë (179) (Unicode Encoding Conflict).txt 669150\n"
     ]
    }
   ],
   "source": [
    "########################################################################\n",
    "######################### Write your code here #########################\n",
    "########################################################################\n",
    "\n",
    "import glob\n",
    "all_books_names = glob.glob('./HW1_Dataset/*.txt')\n",
    "\n",
    "for book in all_books_names:\n",
    "    text = open(book, mode = \"r\", encoding = \"utf8\").read()\n",
    "    str_len = len(text)\n",
    "    print(book, str_len)"
   ]
  },
  {
   "cell_type": "markdown",
   "metadata": {},
   "source": [
    "**Subpart ii [5 pts].** Copy and paste your code from **subpart i** into the code cell below. Then in the code cell below, modify the code so that it prints out the top 15 longest books (in terms of raw string length, which is what you had already computed). In particular, please write your code so that the printout is of the following format:\n",
    "\n",
    "```\n",
    "1. <number of characters in longest text file> <filename of longest text file>\n",
    "2. <number of characters in 2nd longest text file> <filename of 2nd longest text file>\n",
    "...\n",
    "15. <number of characters in 15th longest text file> <filename of 15th longest text file>\n",
    "```\n",
    "\n",
    "Note: only print out information for the top 15 books in the format above; please do not repeat printing what we asked you to print in **subpart i**."
   ]
  },
  {
   "cell_type": "code",
   "execution_count": 3,
   "metadata": {},
   "outputs": [
    {
     "name": "stdout",
     "output_type": "stream",
     "text": [
      "5465100 ./HW1_Dataset\\The Complete Works of William Shakespeare by William Shakespeare (132).txt\n",
      "4351846 ./HW1_Dataset\\The King James Version of the Bible (132).txt\n",
      "3254333 ./HW1_Dataset\\Les Misérables by Victor Hugo (165) (Unicode Encoding Conflict).txt\n",
      "3227580 ./HW1_Dataset\\War and Peace by graf Leo Tolstoy (251).txt\n",
      "3033575 ./HW1_Dataset\\Essays of Michel de Montaigne — Complete by Michel de Montaigne (205).txt\n",
      "2643849 ./HW1_Dataset\\The Count of Monte Cristo, Illustrated by Alexandre Dumas (160).txt\n",
      "1534140 ./HW1_Dataset\\Ulysses by James Joyce (282).txt\n",
      "1378627 ./HW1_Dataset\\My Secret Life, Volumes I. to III. by Anonymous (157).txt\n",
      "1238569 ./HW1_Dataset\\Moby Dick; Or, The Whale by Herman Melville (413).txt\n",
      "1231784 ./HW1_Dataset\\Leviathan by Thomas Hobbes (417).txt\n",
      "1214387 ./HW1_Dataset\\The Republic by Plato (246).txt\n",
      "1200021 ./HW1_Dataset\\The History of the Peloponnesian War by Thucydides (122).txt\n",
      "1175588 ./HW1_Dataset\\The Iliad by Homer (256).txt\n",
      "1167141 ./HW1_Dataset\\The Federalist Papers by Alexander Hamilton and John Jay and James Madison (116).txt\n",
      "1154508 ./HW1_Dataset\\Prestuplenie i nakazanie. English by Fyodor Dostoyevsky (160).txt\n"
     ]
    }
   ],
   "source": [
    "########################################################################\n",
    "######################### Write your code here #########################\n",
    "########################################################################\n",
    "\n",
    "#all_books_names = glob.glob('./HW1_Dataset/*.txt')\n",
    "\n",
    "# reference: https://docs.python.org/3/howto/sorting.html and https://docs.python.org/3/library/stdtypes.html#list.sort\n",
    "\n",
    "books_list = list()\n",
    "\n",
    "for book in all_books_names:\n",
    "    text = open(book, mode = \"r\", encoding = \"utf8\").read()\n",
    "    str_len = len(text)\n",
    "    books_list.append((str_len, book))\n",
    "    \n",
    "books_list.sort(key = lambda x: x[0], reverse = True)\n",
    "\n",
    "for i in range(len(books_list)):\n",
    "    if i < 15:\n",
    "        print(books_list[i][0], books_list[i][1])"
   ]
  },
  {
   "cell_type": "markdown",
   "metadata": {},
   "source": [
    "**Subpart iii [5 pts].** You should find that some of the books are quite long. Processing very long books will be problematic with spaCy, so we will want to chop up long books into pieces. Note that later on in the course, we shall see that chopping up large amounts of data into small pieces or \"batches\" is in fact quite common in machine learning since for massive datasets, we often cannot store them in their entirety on a CPU or GPU for processing all at once.\n",
    "\n",
    "As a toy example, suppose that a book's text is `'cat dog shark spam eggs'` and we want to split it up into batches where each batch has at most 3 words. Then we could split up the book's text into two batches/pieces: `'cat dog shark'` and `'spam eggs'`.\n",
    "\n",
    "We have provided code for you to do this below."
   ]
  },
  {
   "cell_type": "code",
   "execution_count": 4,
   "metadata": {},
   "outputs": [
    {
     "name": "stdout",
     "output_type": "stream",
     "text": [
      "['cat dog shark', 'spam eggs']\n"
     ]
    }
   ],
   "source": [
    "import numpy as np\n",
    "\n",
    "def split_into_batches(book_text, max_num_words_per_batch):\n",
    "    words_split_on_spaces = book_text.split(' ')\n",
    "    num_book_pieces = int(np.ceil(len(words_split_on_spaces) / max_num_words_per_batch))\n",
    "    batches = []\n",
    "    for piece_idx in range(num_book_pieces):\n",
    "        start_idx = piece_idx * max_num_words_per_batch\n",
    "        end_idx = (piece_idx + 1) * max_num_words_per_batch\n",
    "        if end_idx > len(words_split_on_spaces):\n",
    "            end_idx = len(words_split_on_spaces)\n",
    "        book_piece = ' '.join(words_split_on_spaces[start_idx:end_idx])\n",
    "        batches.append(book_piece)\n",
    "    return batches\n",
    "\n",
    "print(split_into_batches('cat dog shark spam eggs', 3))"
   ]
  },
  {
   "cell_type": "markdown",
   "metadata": {},
   "source": [
    "Now write a loop that goes through all 100 books again. However, for each book, split it up into batches so that each batch has at most 10000 words. In this case, how many batches are there total across all 100 books? Please write code that computes this number of batches. Your code should print out the following (with the correct total number of batches):\n",
    "\n",
    "```\n",
    "Total number of batches: <total number of batches across all 100 books>\n",
    "```"
   ]
  },
  {
   "cell_type": "code",
   "execution_count": 5,
   "metadata": {},
   "outputs": [
    {
     "name": "stdout",
     "output_type": "stream",
     "text": [
      "Total number of batches: 1246\n"
     ]
    }
   ],
   "source": [
    "########################################################################\n",
    "######################### Write your code here #########################\n",
    "########################################################################\n",
    "\n",
    "cumulative_counter = 0\n",
    "\n",
    "for book in all_books_names:\n",
    "    text = open(book, mode = \"r\", encoding = \"utf8\").read()\n",
    "    list_batches = split_into_batches(text, 10000)\n",
    "    batches_count = len(list_batches)\n",
    "    cumulative_counter += batches_count\n",
    "\n",
    "print(f\"Total number of batches: {cumulative_counter}\")"
   ]
  },
  {
   "cell_type": "markdown",
   "metadata": {},
   "source": [
    "**(b) [10 pts]** Now we will finally use spaCy. Note that for this problem, you don't actually need `spaCy`'s named entity recognition or grammatical parsing. Turning these elements off when you instantiate the `nlp` object can substantially speed up your code. To make sure these are off when instantiating the `nlp` object, call: \n",
    "\n",
    "```python\n",
    "nlp = spacy.load('en_core_web_sm', disable=['ner', 'parser'])\n",
    "```\n",
    "\n",
    "**Throughout this problem, do not remove stopwords.**\n",
    "\n",
    "Build a term frequency (raw counts) table that is for all 100 books. Specifically, building on your solution to part (a)-subpart iii, read in a single book at a time and for each book, do the following:\n",
    "\n",
    "  1. Split it up into batches where each batch has at most 10000 words.\n",
    "  2. For each batch:\n",
    "    1. Process the batch by separating and lemmatizing the words\n",
    "    2. Count the number of times each lemma appears and add these to the frequency table. For simplicity, **do not convert lemmas to lowercase**. (Note that we use raw counts as the \"frequency\"--do not do any division.) Also, as we explain below, we will only count lemmas that are alphanumeric.\n",
    "\n",
    "Note that just as we had said in part (a): do **not** print out the complete contents of every book since doing so will result in a Jupyter notebook file that is massive.\n",
    "\n",
    "After looping through all 100 books, you should have the term frequency table for the entire corpus (importantly, the frequency table should not just be for a single book; it should be for all 100 books). Sort the table and print the top 50 most frequent words, along with their frequencies and ranks. Don't worry about ties (for example, if multiple things have the same frequency, it's fine if your solution breaks ties arbitrarily in the sorting).\n",
    "\n",
    "Note: When counting the lemmas, only include lemmas that consist of alphabetic letters (a-z and A-Z). You can do this with what's called a *regular expression*. For example, to check whether the words \"will.i.am\" or \"Tesla\" are alphabetic, you would do the following:\n",
    "\n",
    "```python\n",
    "import re  # regular expression package\n",
    "if re.match('[a-zA-Z]+$', 'will.i.am'):\n",
    "    print('will.i.am consists only of alphabetic letters!')\n",
    "if re.match('[a-zA-Z]+$', 'Tesla'):\n",
    "    print('tesla consists only of alphabetic letters!')\n",
    "```"
   ]
  },
  {
   "cell_type": "code",
   "execution_count": 6,
   "metadata": {},
   "outputs": [
    {
     "name": "stdout",
     "output_type": "stream",
     "text": [
      "Word: the \tFrequency: 702301 \tRank: 1\n",
      "Word: be \tFrequency: 436045 \tRank: 2\n",
      "Word: and \tFrequency: 435432 \tRank: 3\n",
      "Word: of \tFrequency: 386343 \tRank: 4\n",
      "Word: to \tFrequency: 324345 \tRank: 5\n",
      "Word: I \tFrequency: 254952 \tRank: 6\n",
      "Word: a \tFrequency: 232719 \tRank: 7\n",
      "Word: in \tFrequency: 204234 \tRank: 8\n",
      "Word: he \tFrequency: 193507 \tRank: 9\n",
      "Word: that \tFrequency: 158935 \tRank: 10\n",
      "Word: have \tFrequency: 158148 \tRank: 11\n",
      "Word: it \tFrequency: 135414 \tRank: 12\n",
      "Word: not \tFrequency: 112312 \tRank: 13\n",
      "Word: his \tFrequency: 108537 \tRank: 14\n",
      "Word: you \tFrequency: 105094 \tRank: 15\n",
      "Word: with \tFrequency: 101226 \tRank: 16\n",
      "Word: they \tFrequency: 96202 \tRank: 17\n",
      "Word: for \tFrequency: 95261 \tRank: 18\n",
      "Word: as \tFrequency: 90714 \tRank: 19\n",
      "Word: she \tFrequency: 78940 \tRank: 20\n",
      "Word: but \tFrequency: 75598 \tRank: 21\n",
      "Word: my \tFrequency: 74019 \tRank: 22\n",
      "Word: do \tFrequency: 68716 \tRank: 23\n",
      "Word: at \tFrequency: 64947 \tRank: 24\n",
      "Word: on \tFrequency: 62798 \tRank: 25\n",
      "Word: this \tFrequency: 61222 \tRank: 26\n",
      "Word: by \tFrequency: 61168 \tRank: 27\n",
      "Word: we \tFrequency: 60268 \tRank: 28\n",
      "Word: which \tFrequency: 58727 \tRank: 29\n",
      "Word: all \tFrequency: 58724 \tRank: 30\n",
      "Word: say \tFrequency: 58281 \tRank: 31\n",
      "Word: from \tFrequency: 50095 \tRank: 32\n",
      "Word: so \tFrequency: 47925 \tRank: 33\n",
      "Word: or \tFrequency: 47806 \tRank: 34\n",
      "Word: her \tFrequency: 42440 \tRank: 35\n",
      "Word: one \tFrequency: 41089 \tRank: 36\n",
      "Word: man \tFrequency: 39734 \tRank: 37\n",
      "Word: no \tFrequency: 38422 \tRank: 38\n",
      "Word: their \tFrequency: 38393 \tRank: 39\n",
      "Word: what \tFrequency: 37759 \tRank: 40\n",
      "Word: there \tFrequency: 37187 \tRank: 41\n",
      "Word: will \tFrequency: 36737 \tRank: 42\n",
      "Word: if \tFrequency: 34897 \tRank: 43\n",
      "Word: go \tFrequency: 33666 \tRank: 44\n",
      "Word: when \tFrequency: 33587 \tRank: 45\n",
      "Word: an \tFrequency: 32483 \tRank: 46\n",
      "Word: come \tFrequency: 32032 \tRank: 47\n",
      "Word: see \tFrequency: 31994 \tRank: 48\n",
      "Word: would \tFrequency: 31287 \tRank: 49\n",
      "Word: who \tFrequency: 30929 \tRank: 50\n"
     ]
    }
   ],
   "source": [
    "########################################################################\n",
    "######################### Write your code here #########################\n",
    "########################################################################\n",
    "\n",
    "# reference: https://gist.github.com/georgehc/932764d81cd246a60b85e28648cf05bc \n",
    "#(94-775/95-865: Basic Text Processing with spaCy)      \n",
    "\n",
    "import spacy\n",
    "import re\n",
    "\n",
    "\n",
    "nlp = spacy.load('en_core_web_sm', disable=['ner', 'parser'])\n",
    "\n",
    "\n",
    "from collections import Counter\n",
    "\n",
    "lemma_count = Counter()\n",
    "\n",
    "\n",
    "for book in all_books_names:\n",
    "    text = open(book, mode = \"r\", encoding = \"utf8\").read()\n",
    "    list_batches = split_into_batches(text, 10000)\n",
    "    #batches_count = len(list_batches)\n",
    "    #cumulative_counter += batches_count\n",
    "\n",
    "    for batch in list_batches:\n",
    "        parsed_text = nlp(batch)\n",
    "        for token in parsed_text:\n",
    "            lemma = token.lemma_\n",
    "            if re.match('[a-zA-Z]+$', lemma):\n",
    "                lemma_count[lemma] += 1\n",
    "                \n",
    "                \n",
    "lemma_count_sorted = lemma_count.most_common()\n",
    "\n",
    "top_50_lemma = [lemma for lemma, count in lemma_count_sorted[:50]]\n",
    "\n",
    "for i in range(50):\n",
    "    lemma, count = lemma_count_sorted[i]\n",
    "    print(f\"Word: {lemma} \\tFrequency: {count} \\tRank: {i+1}\")\n"
   ]
  },
  {
   "cell_type": "code",
   "execution_count": 7,
   "metadata": {},
   "outputs": [],
   "source": [
    "count_sorted = list()\n",
    "lemma_sorted = list()\n",
    "ranks = list()\n",
    "\n",
    "for i in range(len(lemma_count_sorted)):\n",
    "    ranks.append(i+1)\n",
    "\n",
    "\n",
    "for lemma, count in lemma_count_sorted:\n",
    "    count_sorted.append(count)\n"
   ]
  },
  {
   "cell_type": "markdown",
   "metadata": {},
   "source": [
    "**(c) [10 pts]** Visualize the frequency table by plotting a **raw scatter plot** (put frequency as the y-axis and rank as the x-axis), and a **log-log plot** (use logarithmic scales on both the x- and y- axes). Note that this should be for all words and not only the top 50. As before, for the ranks, do not worry about ties, i.e., break ties arbitrarily."
   ]
  },
  {
   "cell_type": "code",
   "execution_count": 8,
   "metadata": {},
   "outputs": [
    {
     "data": {
      "image/png": "[encoded data removed]",
      "text/plain": [
       "<Figure size 576x396 with 1 Axes>"
      ]
     },
     "metadata": {},
     "output_type": "display_data"
    }
   ],
   "source": [
    "# Raw scatter plot\n",
    "########################################################################\n",
    "######################### Write your code here #########################\n",
    "########################################################################\n",
    "\n",
    "x = ranks\n",
    "y = count_sorted\n",
    "\n",
    "plt.scatter(x, y)\n",
    "plt.xlabel('Rank')\n",
    "plt.ylabel('Frequency')\n",
    "plt.title('Raw scatter plot - Frequency v/s Rank')\n",
    "plt.show()\n"
   ]
  },
  {
   "cell_type": "code",
   "execution_count": 9,
   "metadata": {},
   "outputs": [
    {
     "data": {
      "image/png": "[encoded data removed]",
      "text/plain": [
       "<Figure size 576x396 with 1 Axes>"
      ]
     },
     "metadata": {},
     "output_type": "display_data"
    }
   ],
   "source": [
    "# Log-log plot\n",
    "########################################################################\n",
    "######################### Write your code here #########################\n",
    "########################################################################\n",
    "\n",
    "#https://matplotlib.org/3.5.0/api/_as_gen/matplotlib.pyplot.loglog.html\n",
    "#Reference: https://riptutorial.com/matplotlib/example/31103/loglog-graphing\n",
    "\n",
    "xlog = np.log(x)\n",
    "ylog = np.log(y)\n",
    "\n",
    "plt.plot(xlog, ylog, color = 'red')\n",
    "plt.xlabel('Log(Rank)')\n",
    "plt.ylabel('Log(Frequency)')\n",
    "plt.title('Log-log plot - Frequency v/s Rank')\n",
    "#plt.grid()\n",
    "plt.show()\n"
   ]
  },
  {
   "cell_type": "markdown",
   "metadata": {},
   "source": [
    "**(d) [10 pts across subparts]** Let's now try to make sense of the very last plot in part **(c)**. Zipf's law states that term frequency is governed by a power law, i.e. the relationship between term frequency and rank can be approximated by $f(r) = cr^{-1}$, where $f(r)$ is the frequency of the term at rank $r$, $r$ is the rank of a term, and $c$ is a constant that is approximately 0.1*(corpus size) for English.\n",
    "\n",
    "Please answer the following questions:\n",
    "\n",
    "**Subpart i [3 pts].** What do you observe in the log-log plot above? Is this consist with the power law?\n"
   ]
  },
  {
   "cell_type": "markdown",
   "metadata": {},
   "source": [
    "Your text answer (for this question, your answer is *not* code): \n",
    "\n",
    "The loglog plot above is almost linear with the slope close to -1, Log(Frequency) here is linearly proportional to Log(Rank) with slope close to -1. \n",
    "\n",
    "If the plot above is governed by a power law, the equation in log terms would be Log(Frequency) = Log(c) + (-1) * Log(Rank) and the slope of the plot between Log(Frequency) and Log(Rank) should be -1 which is almost the same in the plot. Hence, the plot is consistant with power law."
   ]
  },
  {
   "cell_type": "markdown",
   "metadata": {},
   "source": [
    "**Subpart ii [4 pts].** Think of the corpus as a (large) unigram bag of words. Following the analogy from lecture, imagine drawing a single word from this big bag (note that we are assuming that we've lemmatized the words and also filtered out non-alphanumeric words; thus what remains in the bag are actually alphanumeric lemmas). What is the probability of drawing one of the 4 most frequent alphanumeric lemmas? What is the probability of drawing one of the 50 most frequent alphanumeric lemmas? Answer these two questions using code rather than just entering in the final answers as numbers."
   ]
  },
  {
   "cell_type": "code",
   "execution_count": 10,
   "metadata": {},
   "outputs": [
    {
     "name": "stdout",
     "output_type": "stream",
     "text": [
      "Probability of drawing one of the 4 most frequent alphanumeric lemmas: 0.16227588475878102\n",
      "Probability of drawing one of the 50 most frequent alphanumeric lemmas: 0.4829554608342353\n"
     ]
    }
   ],
   "source": [
    "count_4 = 0\n",
    "count_50 = 0\n",
    "\n",
    "total_count = sum(count_sorted)\n",
    "\n",
    "ranks\n",
    "count_sorted\n",
    "lemma_sorted\n",
    "\n",
    "for i in range(len(count_sorted)):\n",
    "    if ranks[i] <= 4:\n",
    "        count_4 += count_sorted[i]\n",
    "        \n",
    "    if ranks[i] <= 50:\n",
    "        count_50 += count_sorted[i]\n",
    "\n",
    "prob_4 = count_4 / total_count\n",
    "prob_50 = count_50 / total_count\n",
    "\n",
    "print(f'Probability of drawing one of the 4 most frequent alphanumeric lemmas: {prob_4}')\n",
    "########################################################################\n",
    "######################### Write your code here #########################\n",
    "########################################################################\n",
    "\n",
    "print(f'Probability of drawing one of the 50 most frequent alphanumeric lemmas: {prob_50}')\n",
    "########################################################################\n",
    "######################### Write your code here #########################\n",
    "########################################################################"
   ]
  },
  {
   "cell_type": "markdown",
   "metadata": {},
   "source": [
    "**Subpart iii [4 pts].** What proportion of the alphanumeric lemmas occur only once? What proportion of the alphanumeric lemmas occur fewer than 10 times?"
   ]
  },
  {
   "cell_type": "code",
   "execution_count": 11,
   "metadata": {
    "scrolled": true
   },
   "outputs": [
    {
     "name": "stdout",
     "output_type": "stream",
     "text": [
      "Occur only once: 0.4472280922620386\n",
      "Occur fewer than 10 times: 0.782428847623758\n"
     ]
    }
   ],
   "source": [
    "lemma_count_1 = 0\n",
    "lemma_count_9 = 0\n",
    "\n",
    "\n",
    "for i in range(len(count_sorted)):\n",
    "    if count_sorted[i] == 1:\n",
    "        lemma_count_1 += 1\n",
    "        \n",
    "    if count_sorted[i] < 10:\n",
    "        lemma_count_9 += 1\n",
    "\n",
    "prop_1 = lemma_count_1 / len(count_sorted)\n",
    "prop_9 = lemma_count_9 / len(count_sorted)\n",
    "\n",
    "\n",
    "\n",
    "print(f\"Occur only once: {prop_1}\")\n",
    "########################################################################\n",
    "######################### Write your code here #########################\n",
    "########################################################################\n",
    "\n",
    "print(f\"Occur fewer than 10 times: {prop_9}\")\n",
    "########################################################################\n",
    "######################### Write your code here #########################\n",
    "########################################################################"
   ]
  },
  {
   "cell_type": "markdown",
   "metadata": {},
   "source": [
    "### [Problem 2] Entity Recognition and Pointwise Mutual Information (PMI) [50 pts]\n",
    "By using the entity recognition system in `spaCy`, let's identify named entities from newspaper articles. You'll be using Reuters corpus which contains more than ten thousand newspaper articles. To run the code below, you need to download the Reuters dataset. To do so, in a terminal/command line (recall that you can open a terminal from Jupyter's webpage that shows all the files, which by default is [http://localhost:8888/tree](http://localhost:8888/tree)), start up Python and enter:\n",
    "\n",
    "```python\n",
    "import nltk\n",
    "nltk.download('reuters')\n",
    "```\n",
    "\n",
    "Then proceed to the problem subparts below.\n",
    "\n",
    "Note that in this problem you will need named entity recognition but not grammatical parsing. Hence, you will want to instantiate the nlp object by calling:\n",
    "\n",
    "```python\n",
    "nlp = spacy.load('en_core_web_sm', disable=['parser'])\n",
    "```\n"
   ]
  },
  {
   "cell_type": "markdown",
   "metadata": {},
   "source": [
    "**(a) [15 pts]** Draw a bar chart in which one of the axes shows entity labels and the other shows the frequency of the corresponding label. Use the variables `reuters_nlp` and `label_counter` provided in the code below."
   ]
  },
  {
   "cell_type": "code",
   "execution_count": 12,
   "metadata": {
    "scrolled": false
   },
   "outputs": [
    {
     "name": "stderr",
     "output_type": "stream",
     "text": [
      "C:\\Users\\Ravi\\AppData\\Roaming\\Python\\Python39\\site-packages\\spacy\\pipeline\\lemmatizer.py:211: UserWarning: [W108] The rule-based lemmatizer did not find POS annotation for one or more tokens. Check that your pipeline includes components that assign token.pos, typically 'tagger'+'attribute_ruler' or 'morphologizer'.\n",
      "  warnings.warn(Warnings.W108)\n"
     ]
    },
    {
     "data": {
      "text/plain": [
       "Text(0, 0.5, 'Frequency')"
      ]
     },
     "execution_count": 12,
     "metadata": {},
     "output_type": "execute_result"
    },
    {
     "data": {
      "image/png": "[encoded data removed]",
      "text/plain": [
       "<Figure size 576x396 with 1 Axes>"
      ]
     },
     "metadata": {},
     "output_type": "display_data"
    }
   ],
   "source": [
    "import matplotlib.pyplot as plt\n",
    "from collections import Counter\n",
    "from nltk.corpus import reuters\n",
    "import re\n",
    "import spacy\n",
    "nlp = spacy.load('en_core_web_sm', disable=['parser', 'tagger'])\n",
    "reuters_fileids = reuters.fileids()  # hint: when first debugging, consider looking at just the first few\n",
    "reuters_nlp = [nlp(re.sub('\\s+',' ', reuters.raw(i)).strip()) for i in reuters_fileids]\n",
    "label_counter = Counter()\n",
    "\n",
    "########################################################################\n",
    "######################### Write your code here #########################\n",
    "########################################################################\n",
    "\n",
    "#reference: https://gist.github.com/georgehc/932764d81cd246a60b85e28648cf05bc\n",
    "\n",
    "\n",
    "# reuters_nlp is a list of nlp's\n",
    "\n",
    "for parsed_text in reuters_nlp:\n",
    "\n",
    "    for entity in parsed_text.ents:\n",
    "        label = entity.label_\n",
    "        #labels.append(label)\n",
    "        label_counter[label] += 1\n",
    "\n",
    "label_counter_sorted = label_counter.most_common()\n",
    "\n",
    "labels = [label for label, count in label_counter_sorted]\n",
    "counts = [count for label, count in label_counter_sorted]\n",
    "\n",
    "plt.bar(range(len(labels)), counts)\n",
    "plt.xticks(range(len(labels)), labels, rotation=90)\n",
    "plt.xlabel('Labels')\n",
    "plt.ylabel('Frequency')\n",
    "\n"
   ]
  },
  {
   "cell_type": "markdown",
   "metadata": {},
   "source": [
    "**(b) [15 pts]** Now list the top 10 most frequently occurring entities (entity text and the number of occurence) with label `ORG` (organization). Separately list the top 10 most frequently occurring entities with label `GPE` (geopolitical entity such as countries, cities, states) respectively. **In both cases, please convert the entity names to lowercase first before computing the top 10.**\n",
    "\n",
    "Here, when counting the (raw count) frequency, we need to count how many articles have an entity with the desired property. For every article, we add 1 if the article has the entity and 0 otherwise."
   ]
  },
  {
   "cell_type": "code",
   "execution_count": 13,
   "metadata": {},
   "outputs": [
    {
     "name": "stdout",
     "output_type": "stream",
     "text": [
      "List the top 10 most frequently occurring entities with label ORG (Entity text, Number of occurence):\n",
      "reuters, 447\n",
      "the securities and exchange commission, 249\n",
      "ec, 237\n",
      "treasury, 222\n",
      "fed, 209\n",
      "usda, 181\n",
      "the u.s. agriculture department, 168\n",
      "the bank of england, 142\n",
      "congress, 136\n",
      "opec, 125\n",
      "\n",
      "\n",
      "List the top 10 most frequently occurring entities with label GPE (Entity text, Number of occurence):\n",
      "u.s., 1674\n",
      "japan, 575\n",
      "the united states, 381\n",
      "u.k., 305\n",
      "canada, 304\n",
      "new york, 256\n",
      "west germany, 237\n",
      "washington, 233\n",
      "london, 211\n",
      "brazil, 195\n"
     ]
    }
   ],
   "source": [
    "########################################################################\n",
    "######################### Write your code here #########################\n",
    "########################################################################\n",
    "\n",
    "entity_counter_org = Counter()\n",
    "entity_counter_gpe = Counter()\n",
    "\n",
    "for parsed_text in reuters_nlp:\n",
    "    repeat_check_org = list()\n",
    "    repeat_check_gpe = list()\n",
    "    \n",
    "    for entity in parsed_text.ents:\n",
    "        entity_lower = str(entity).lower()\n",
    "        label = entity.label_\n",
    "        if label == \"ORG\":\n",
    "            if entity_lower not in repeat_check_org:\n",
    "                entity_counter_org[entity_lower] += 1\n",
    "                repeat_check_org.append(entity_lower)\n",
    "\n",
    "        if label == \"GPE\":\n",
    "            if entity_lower not in repeat_check_gpe:\n",
    "                entity_counter_gpe[entity_lower] += 1\n",
    "                repeat_check_gpe.append(entity_lower)\n",
    "                \n",
    "    \n",
    "\n",
    "\n",
    "entity_counter_org_sorted = entity_counter_org.most_common()\n",
    "\n",
    "entity_counter_gpe_sorted = entity_counter_gpe.most_common()\n",
    "\n",
    "print(\"List the top 10 most frequently occurring entities with label ORG (Entity text, Number of occurence):\")\n",
    "for i in range(10):\n",
    "    print(f\"{entity_counter_org_sorted[i][0]}, {entity_counter_org_sorted[i][1]}\")\n",
    "\n",
    "    \n",
    "print(\"\\n\\nList the top 10 most frequently occurring entities with label GPE (Entity text, Number of occurence):\")\n",
    "for i in range(10):\n",
    "    print(f\"{entity_counter_gpe_sorted[i][0]}, {entity_counter_gpe_sorted[i][1]}\")\n"
   ]
  },
  {
   "cell_type": "markdown",
   "metadata": {},
   "source": [
    "**(c) [20 pts]** Give the top 50 `GPE` (countries, cities, states) entities that have the highest Pointwise Mutual Information (PMI) values with regard to the `ORG` (organization) entity **'opec'** (your list of this top 50 should be ranked in decreasing PMI value). Did you find any unexpected results? If so, why do you think it happened? If you found some of the results to be unsurprisingly, how come? **Just like in the previous part, please convert entity names to lowercase in your analysis.**\n",
    "\n",
    "Hint 1: As in lecture, when computing PMI, we will compute probabilities by counting the number of documents where entities occur or co-occur.  For example, $P('opec') = \\frac{number \\ \\ of \\ \\ documents \\ \\ containing \\ \\ 'opec'}{number \\ \\ of \\ \\ documents}$.  \n",
    "\n",
    "Hint 2: To compute this ranking, you do not have to compute the full PMI equation."
   ]
  },
  {
   "cell_type": "code",
   "execution_count": 14,
   "metadata": {},
   "outputs": [
    {
     "name": "stdout",
     "output_type": "stream",
     "text": [
      "GPE: tripoli                       PMI: 1.0\n",
      "GPE: petromin                      PMI: 1.0\n",
      "GPE: napo province                 PMI: 1.0\n",
      "GPE: neutral zone                  PMI: 1.0\n",
      "GPE: hartley                       PMI: 1.0\n",
      "GPE: guayaquil                     PMI: 1.0\n",
      "GPE: rosenberg                     PMI: 1.0\n",
      "GPE: turben                        PMI: 1.0\n",
      "GPE: the lake charles              PMI: 1.0\n",
      "GPE: saudi arabia's king           PMI: 1.0\n",
      "GPE: materialy                     PMI: 1.0\n",
      "GPE: duri                          PMI: 1.0\n",
      "GPE: jubail                        PMI: 1.0\n",
      "GPE: suharto                       PMI: 1.0\n",
      "GPE: september norway's            PMI: 1.0\n",
      "GPE: napo                          PMI: 1.0\n",
      "GPE: redoglia                      PMI: 1.0\n",
      "GPE: lajous                        PMI: 1.0\n",
      "GPE: el salado                     PMI: 1.0\n",
      "GPE: east room                     PMI: 1.0\n",
      "GPE: bethesda                      PMI: 1.0\n",
      "GPE: opecna                        PMI: 1.0\n",
      "GPE: doha                          PMI: 1.0\n",
      "GPE: yanbu                         PMI: 1.0\n",
      "GPE: venezuela\"s                   PMI: 1.0\n",
      "GPE: emirates                      PMI: 1.0\n",
      "GPE: gabon                         PMI: 1.0\n",
      "GPE: vienna                        PMI: 0.85\n",
      "GPE: riyadh                        PMI: 0.8\n",
      "GPE: saudi arabia's                PMI: 0.6875\n",
      "GPE: quito                         PMI: 0.6666666666666666\n",
      "GPE: balao                         PMI: 0.625\n",
      "GPE: qatar                         PMI: 0.5769230769230769\n",
      "GPE: dubai                         PMI: 0.5714285714285714\n",
      "GPE: caracas                       PMI: 0.5555555555555556\n",
      "GPE: oseberg                       PMI: 0.5\n",
      "GPE: kahan                         PMI: 0.5\n",
      "GPE: dunham                        PMI: 0.5\n",
      "GPE: libya                         PMI: 0.5\n",
      "GPE: pertamina                     PMI: 0.5\n",
      "GPE: new york harbor               PMI: 0.5\n",
      "GPE: ecuador                       PMI: 0.48214285714285715\n",
      "GPE: nigeria                       PMI: 0.47058823529411764\n",
      "GPE: saudi arabia                  PMI: 0.43283582089552236\n",
      "GPE: kuwait                        PMI: 0.4090909090909091\n",
      "GPE: venezuela                     PMI: 0.3829787234042553\n",
      "GPE: the united arab emirates      PMI: 0.3793103448275862\n",
      "GPE: la                            PMI: 0.3333333333333333\n",
      "GPE: lagos                         PMI: 0.3333333333333333\n",
      "GPE: antwerp                       PMI: 0.3333333333333333\n"
     ]
    }
   ],
   "source": [
    "########################################################################\n",
    "######################### Write your code here #########################\n",
    "########################################################################\n",
    "\n",
    "\n",
    "#count of docs with opec\n",
    "\n",
    "opec_count = 0\n",
    "\n",
    "for parsed_text in reuters_nlp:\n",
    "\n",
    "    for entity in parsed_text.ents:\n",
    "        label = entity.label_\n",
    "        entity_lower = str(entity).lower()\n",
    "        #labels.append(label)\n",
    "        if label == \"ORG\" and entity_lower == \"opec\":\n",
    "            opec_count += 1\n",
    "            break\n",
    "\n",
    "entity_counter_gpe_opec = Counter()\n",
    "entity_counter_gpe = Counter()\n",
    "entity_lower_list = list()\n",
    "\n",
    "\n",
    "\n",
    "for parsed_text in reuters_nlp:\n",
    "    \n",
    "    opec_check = 0\n",
    "    repeat_check_gpe = list()\n",
    "\n",
    "    for entity in parsed_text.ents:\n",
    "        label = entity.label_\n",
    "        entity_lower = str(entity).lower()\n",
    "        if label == \"ORG\" and entity_lower == \"opec\":\n",
    "            opec_check = 1\n",
    "\n",
    "    for entity in parsed_text.ents:\n",
    "        label = entity.label_\n",
    "        entity_lower = str(entity).lower()\n",
    "\n",
    "        if label == \"GPE\":\n",
    "            if entity_lower not in repeat_check_gpe:\n",
    "                entity_counter_gpe[entity_lower] += 1\n",
    "                \n",
    "                if opec_check == 1:\n",
    "                    entity_counter_gpe_opec[entity_lower] += 1\n",
    "\n",
    "                repeat_check_gpe.append(entity_lower)\n",
    "                entity_lower_list.append(entity_lower)\n",
    "                \n",
    "\n",
    "entity_counter_gpe_sorted = entity_counter_gpe.most_common()\n",
    "entity_counter_gpe_opec_sorted = entity_counter_gpe_opec.most_common()\n",
    "\n",
    "\n",
    "#entity_counter_gpe_list = [(i,j) for i,j in entity_counter_gpe_sorted]\n",
    "\n",
    "entity_lower_unique = set(entity_lower_list)\n",
    "\n",
    "dict_gpe_count = dict()\n",
    "dict_gpe_opec_count = dict()\n",
    "\n",
    "\n",
    "\n",
    "for i,j in entity_counter_gpe_sorted:\n",
    "    dict_gpe_count[i] = j\n",
    "\n",
    "for i,j in entity_counter_gpe_opec_sorted:\n",
    "    dict_gpe_opec_count[i] = j\n",
    "                   \n",
    "\n",
    "gpe_ratio = list()\n",
    "\n",
    "list_gpe_opec_count = list(dict_gpe_opec_count.keys())\n",
    "\n",
    "#print(list_gpe_opec_count)\n",
    "\n",
    "for entity_lower in entity_lower_unique:\n",
    "    if entity_lower in list_gpe_opec_count:\n",
    "        gpe_ratio.append((entity_lower, dict_gpe_opec_count[entity_lower] / dict_gpe_count[entity_lower]))\n",
    "\n",
    "#print(gpe_ratio)\n",
    "\n",
    "sorted_gpe_ratio = sorted(gpe_ratio, key = lambda pair: pair[1], reverse = True)\n",
    "\n",
    "#print(sorted_gpe_ratio)\n",
    "\n",
    "for i in range(50):\n",
    "    print(f\"GPE: {sorted_gpe_ratio[i][0]} \\tPMI: {sorted_gpe_ratio[i][1]}\".expandtabs(35))\n"
   ]
  },
  {
   "attachments": {},
   "cell_type": "markdown",
   "metadata": {},
   "source": [
    "Your text answer (for this question, your answer is *not* code): *** There are several GPE words which are for a location (country, city, state, etc.) related to in this list that were expected to be there in the top list due to their relation to the list of current and former member countries of OPEC which include:Algeria, Angola, Congo, Ecuador, Equatorial Guinea, Gabon, IR Iran, Iraq, Kuwait, Libya, Nigeria, Qatar, Saudi Arabia, United Arab Emirates, Indonesisa and Venezuela. Some of the expected words include napo province, guayaquil, napo, tripoli, libya, lagos, doha, qatar, jubail, saudi arabia, riyadh, emirates, dubai, the united arab emirates, neutral zone, duri, etc. \n",
    "\n",
    "It was a surprise to see some words on this list that are not expected to be labelled as GPE because of not being a location (country, city, state, etc.). E.g. saudi arabia's king, suharto (President of Indonesia), petromin (Saudi Arabian lubricants and automotive services company). These words might have been wrongly assigned a label of GPE. \n",
    "\n",
    "Another set of words were surprising because of not being related to OPEC but they have high PMI because of being closely associated to the Oil business. Such as, rosenberg, the lake charles (a refinary in Louisiana), september norway's, venezuela\"s, vienna, antwerp, etc.\n",
    "\n",
    "The PMI is sometimes high despite lower number of co-occurence (the GPE label and entity name OPEC) also due to the denominator (number of occurence of GPE irrespective of presence of entity name OPEC) being a small count. \n",
    "***"
   ]
  },
  {
   "cell_type": "markdown",
   "metadata": {},
   "source": [
    "### [Problem 3] Questionnaire [5 pts]\n",
    "\n",
    "Please provide feedback! To receive the 5 points, be sure to enter your Andrew ID correctly in this Google form: https://forms.gle/ojrc5eWcm7gDnN8L7"
   ]
  }
 ],
 "metadata": {
  "anaconda-cloud": {},
  "kernelspec": {
   "display_name": "Python 3 (ipykernel)",
   "language": "python",
   "name": "python3"
  },
  "language_info": {
   "codemirror_mode": {
    "name": "ipython",
    "version": 3
   },
   "file_extension": ".py",
   "mimetype": "text/x-python",
   "name": "python",
   "nbconvert_exporter": "python",
   "pygments_lexer": "ipython3",
   "version": "3.9.7"
  }
 },
 "nbformat": 4,
 "nbformat_minor": 2
}
